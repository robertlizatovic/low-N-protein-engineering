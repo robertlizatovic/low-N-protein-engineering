{
 "cells": [
  {
   "cell_type": "code",
   "execution_count": 1,
   "metadata": {
    "collapsed": true
   },
   "outputs": [],
   "source": [
    "import os\n",
    "import sys\n",
    "import warnings\n",
    "import random\n",
    "import copy\n",
    "import pickle\n",
    "\n",
    "import numpy as np\n",
    "import pandas as pd\n",
    "import matplotlib.pyplot as plt\n",
    "\n",
    "sys.path.append('../common')\n",
    "import data_io_utils\n",
    "import paths\n",
    "import constants\n",
    "import utils\n",
    "\n",
    "sys.path.append('../A003_policy_optimization/')\n",
    "import A003_common\n",
    "\n",
    "import A006_common"
   ]
  },
  {
   "cell_type": "code",
   "execution_count": 2,
   "metadata": {
    "collapsed": true
   },
   "outputs": [],
   "source": [
    "output_dir = 'hyperborg'"
   ]
  },
  {
   "cell_type": "code",
   "execution_count": 3,
   "metadata": {
    "collapsed": true
   },
   "outputs": [],
   "source": [
    "N_seq = 500\n",
    "\n",
    "example_config = {\n",
    "    'seed': 1,\n",
    "    'n_train_seqs': 96,\n",
    "    'model': 'ET_Global_Init_1',\n",
    "    'n_chains': N_seq,\n",
    "    'T_max': np.logspace(-3.5, -0.5, N_seq), #np.ones(N_seq)*(10**(-2)),\n",
    "    'sa_n_iter': 500, # debug\n",
    "    'temp_decay_rate': 1.0,\n",
    "    'min_mut_pos': A006_common.BLAC_LIB_REGION[0],\n",
    "    'max_mut_pos': A006_common.BLAC_LIB_REGION[1],\n",
    "    'nmut_threshold': 7,\n",
    "    'output_file': 'blac_example_sa.p'\n",
    "}\n",
    "\n",
    "with open(os.path.join(output_dir, 'blac_example_config.p'), 'wb') as f:\n",
    "    pickle.dump(file=f, obj=example_config)"
   ]
  },
  {
   "cell_type": "markdown",
   "metadata": {},
   "source": [
    "In A006g we see that 0.01 might be the best temperature to use."
   ]
  },
  {
   "cell_type": "markdown",
   "metadata": {},
   "source": [
    "## Generate config dicts for all conditions we're interested in "
   ]
  },
  {
   "cell_type": "code",
   "execution_count": 4,
   "metadata": {
    "collapsed": true
   },
   "outputs": [],
   "source": [
    "models = ['ET_Global_Init_1', 'ET_Random_Init_1', 'OneHot']\n",
    "n_train_seqs = [8, 24, 96]\n",
    "seeds = list(np.arange(10)) # Defines training sets that will be used."
   ]
  },
  {
   "cell_type": "code",
   "execution_count": 5,
   "metadata": {},
   "outputs": [
    {
     "name": "stdout",
     "output_type": "stream",
     "text": [
      "BLAC_SimAnneal-ET_Global_Init_1-0008-00-1132d8fa.p BLAC_SA_config-ET_Global_Init_1-0008-00-1132d8fa.p\n",
      "BLAC_SimAnneal-ET_Global_Init_1-0008-01-813e268.p BLAC_SA_config-ET_Global_Init_1-0008-01-813e268.p\n",
      "BLAC_SimAnneal-ET_Global_Init_1-0008-02-20a61a1e.p BLAC_SA_config-ET_Global_Init_1-0008-02-20a61a1e.p\n",
      "BLAC_SimAnneal-ET_Global_Init_1-0008-03-f17f5c4.p BLAC_SA_config-ET_Global_Init_1-0008-03-f17f5c4.p\n",
      "BLAC_SimAnneal-ET_Global_Init_1-0008-04-3f6a6abd.p BLAC_SA_config-ET_Global_Init_1-0008-04-3f6a6abd.p\n",
      "BLAC_SimAnneal-ET_Global_Init_1-0008-05-3988ec51.p BLAC_SA_config-ET_Global_Init_1-0008-05-3988ec51.p\n",
      "BLAC_SimAnneal-ET_Global_Init_1-0008-06-3c728830.p BLAC_SA_config-ET_Global_Init_1-0008-06-3c728830.p\n",
      "BLAC_SimAnneal-ET_Global_Init_1-0008-07-30973b4b.p BLAC_SA_config-ET_Global_Init_1-0008-07-30973b4b.p\n",
      "BLAC_SimAnneal-ET_Global_Init_1-0008-08-1adfcc96.p BLAC_SA_config-ET_Global_Init_1-0008-08-1adfcc96.p\n",
      "BLAC_SimAnneal-ET_Global_Init_1-0008-09-c039746.p BLAC_SA_config-ET_Global_Init_1-0008-09-c039746.p\n",
      "BLAC_SimAnneal-ET_Global_Init_1-0024-00-3e721641.p BLAC_SA_config-ET_Global_Init_1-0024-00-3e721641.p\n",
      "BLAC_SimAnneal-ET_Global_Init_1-0024-01-3a0e3d4.p BLAC_SA_config-ET_Global_Init_1-0024-01-3a0e3d4.p\n",
      "BLAC_SimAnneal-ET_Global_Init_1-0024-02-31e54146.p BLAC_SA_config-ET_Global_Init_1-0024-02-31e54146.p\n",
      "BLAC_SimAnneal-ET_Global_Init_1-0024-03-3764e943.p BLAC_SA_config-ET_Global_Init_1-0024-03-3764e943.p\n",
      "BLAC_SimAnneal-ET_Global_Init_1-0024-04-4502d3.p BLAC_SA_config-ET_Global_Init_1-0024-04-4502d3.p\n",
      "BLAC_SimAnneal-ET_Global_Init_1-0024-05-39027296.p BLAC_SA_config-ET_Global_Init_1-0024-05-39027296.p\n",
      "BLAC_SimAnneal-ET_Global_Init_1-0024-06-22171ea1.p BLAC_SA_config-ET_Global_Init_1-0024-06-22171ea1.p\n",
      "BLAC_SimAnneal-ET_Global_Init_1-0024-07-1d481498.p BLAC_SA_config-ET_Global_Init_1-0024-07-1d481498.p\n",
      "BLAC_SimAnneal-ET_Global_Init_1-0024-08-d15c78f.p BLAC_SA_config-ET_Global_Init_1-0024-08-d15c78f.p\n",
      "BLAC_SimAnneal-ET_Global_Init_1-0024-09-28a188c9.p BLAC_SA_config-ET_Global_Init_1-0024-09-28a188c9.p\n",
      "BLAC_SimAnneal-ET_Global_Init_1-0096-00-3ea5f6e.p BLAC_SA_config-ET_Global_Init_1-0096-00-3ea5f6e.p\n",
      "BLAC_SimAnneal-ET_Global_Init_1-0096-01-2db7371.p BLAC_SA_config-ET_Global_Init_1-0096-01-2db7371.p\n",
      "BLAC_SimAnneal-ET_Global_Init_1-0096-02-341cf5c.p BLAC_SA_config-ET_Global_Init_1-0096-02-341cf5c.p\n",
      "BLAC_SimAnneal-ET_Global_Init_1-0096-03-12da09f.p BLAC_SA_config-ET_Global_Init_1-0096-03-12da09f.p\n",
      "BLAC_SimAnneal-ET_Global_Init_1-0096-04-30cb4ce7.p BLAC_SA_config-ET_Global_Init_1-0096-04-30cb4ce7.p\n",
      "BLAC_SimAnneal-ET_Global_Init_1-0096-05-1bb9876f.p BLAC_SA_config-ET_Global_Init_1-0096-05-1bb9876f.p\n",
      "BLAC_SimAnneal-ET_Global_Init_1-0096-06-3607ea7a.p BLAC_SA_config-ET_Global_Init_1-0096-06-3607ea7a.p\n",
      "BLAC_SimAnneal-ET_Global_Init_1-0096-07-3b79bc3.p BLAC_SA_config-ET_Global_Init_1-0096-07-3b79bc3.p\n",
      "BLAC_SimAnneal-ET_Global_Init_1-0096-08-1c60647e.p BLAC_SA_config-ET_Global_Init_1-0096-08-1c60647e.p\n",
      "BLAC_SimAnneal-ET_Global_Init_1-0096-09-380cb350.p BLAC_SA_config-ET_Global_Init_1-0096-09-380cb350.p\n",
      "BLAC_SimAnneal-ET_Random_Init_1-0008-00-3f76c68a.p BLAC_SA_config-ET_Random_Init_1-0008-00-3f76c68a.p\n",
      "BLAC_SimAnneal-ET_Random_Init_1-0008-01-1dd5b61c.p BLAC_SA_config-ET_Random_Init_1-0008-01-1dd5b61c.p\n",
      "BLAC_SimAnneal-ET_Random_Init_1-0008-02-2c3fe940.p BLAC_SA_config-ET_Random_Init_1-0008-02-2c3fe940.p\n",
      "BLAC_SimAnneal-ET_Random_Init_1-0008-03-1d8d08ef.p BLAC_SA_config-ET_Random_Init_1-0008-03-1d8d08ef.p\n",
      "BLAC_SimAnneal-ET_Random_Init_1-0008-04-1c010454.p BLAC_SA_config-ET_Random_Init_1-0008-04-1c010454.p\n",
      "BLAC_SimAnneal-ET_Random_Init_1-0008-05-3ad4494a.p BLAC_SA_config-ET_Random_Init_1-0008-05-3ad4494a.p\n",
      "BLAC_SimAnneal-ET_Random_Init_1-0008-06-25179055.p BLAC_SA_config-ET_Random_Init_1-0008-06-25179055.p\n",
      "BLAC_SimAnneal-ET_Random_Init_1-0008-07-2c02cba.p BLAC_SA_config-ET_Random_Init_1-0008-07-2c02cba.p\n",
      "BLAC_SimAnneal-ET_Random_Init_1-0008-08-3545625d.p BLAC_SA_config-ET_Random_Init_1-0008-08-3545625d.p\n",
      "BLAC_SimAnneal-ET_Random_Init_1-0008-09-ccccf1f.p BLAC_SA_config-ET_Random_Init_1-0008-09-ccccf1f.p\n",
      "BLAC_SimAnneal-ET_Random_Init_1-0024-00-17cbc6c3.p BLAC_SA_config-ET_Random_Init_1-0024-00-17cbc6c3.p\n",
      "BLAC_SimAnneal-ET_Random_Init_1-0024-01-25f01ed8.p BLAC_SA_config-ET_Random_Init_1-0024-01-25f01ed8.p\n",
      "BLAC_SimAnneal-ET_Random_Init_1-0024-02-f795278.p BLAC_SA_config-ET_Random_Init_1-0024-02-f795278.p\n",
      "BLAC_SimAnneal-ET_Random_Init_1-0024-03-2a95c17b.p BLAC_SA_config-ET_Random_Init_1-0024-03-2a95c17b.p\n",
      "BLAC_SimAnneal-ET_Random_Init_1-0024-04-36079a2c.p BLAC_SA_config-ET_Random_Init_1-0024-04-36079a2c.p\n",
      "BLAC_SimAnneal-ET_Random_Init_1-0024-05-184cfefa.p BLAC_SA_config-ET_Random_Init_1-0024-05-184cfefa.p\n",
      "BLAC_SimAnneal-ET_Random_Init_1-0024-06-26d4c78e.p BLAC_SA_config-ET_Random_Init_1-0024-06-26d4c78e.p\n",
      "BLAC_SimAnneal-ET_Random_Init_1-0024-07-245f5589.p BLAC_SA_config-ET_Random_Init_1-0024-07-245f5589.p\n",
      "BLAC_SimAnneal-ET_Random_Init_1-0024-08-3feb188b.p BLAC_SA_config-ET_Random_Init_1-0024-08-3feb188b.p\n",
      "BLAC_SimAnneal-ET_Random_Init_1-0024-09-3259695e.p BLAC_SA_config-ET_Random_Init_1-0024-09-3259695e.p\n",
      "BLAC_SimAnneal-ET_Random_Init_1-0096-00-46b57ab.p BLAC_SA_config-ET_Random_Init_1-0096-00-46b57ab.p\n",
      "BLAC_SimAnneal-ET_Random_Init_1-0096-01-3d7813de.p BLAC_SA_config-ET_Random_Init_1-0096-01-3d7813de.p\n",
      "BLAC_SimAnneal-ET_Random_Init_1-0096-02-1f121a71.p BLAC_SA_config-ET_Random_Init_1-0096-02-1f121a71.p\n",
      "BLAC_SimAnneal-ET_Random_Init_1-0096-03-33bfb65e.p BLAC_SA_config-ET_Random_Init_1-0096-03-33bfb65e.p\n",
      "BLAC_SimAnneal-ET_Random_Init_1-0096-04-35083dba.p BLAC_SA_config-ET_Random_Init_1-0096-04-35083dba.p\n",
      "BLAC_SimAnneal-ET_Random_Init_1-0096-05-16251b4c.p BLAC_SA_config-ET_Random_Init_1-0096-05-16251b4c.p\n",
      "BLAC_SimAnneal-ET_Random_Init_1-0096-06-2efde9e8.p BLAC_SA_config-ET_Random_Init_1-0096-06-2efde9e8.p\n",
      "BLAC_SimAnneal-ET_Random_Init_1-0096-07-2ff644c7.p BLAC_SA_config-ET_Random_Init_1-0096-07-2ff644c7.p\n",
      "BLAC_SimAnneal-ET_Random_Init_1-0096-08-b115ebc.p BLAC_SA_config-ET_Random_Init_1-0096-08-b115ebc.p\n",
      "BLAC_SimAnneal-ET_Random_Init_1-0096-09-382fe50b.p BLAC_SA_config-ET_Random_Init_1-0096-09-382fe50b.p\n",
      "BLAC_SimAnneal-OneHot-0008-00-dd0b10a.p BLAC_SA_config-OneHot-0008-00-dd0b10a.p\n",
      "BLAC_SimAnneal-OneHot-0008-01-14f410d2.p BLAC_SA_config-OneHot-0008-01-14f410d2.p\n",
      "BLAC_SimAnneal-OneHot-0008-02-32562edc.p BLAC_SA_config-OneHot-0008-02-32562edc.p\n",
      "BLAC_SimAnneal-OneHot-0008-03-2f6d496c.p BLAC_SA_config-OneHot-0008-03-2f6d496c.p\n",
      "BLAC_SimAnneal-OneHot-0008-04-3eae46fe.p BLAC_SA_config-OneHot-0008-04-3eae46fe.p\n",
      "BLAC_SimAnneal-OneHot-0008-05-3c91cc3.p BLAC_SA_config-OneHot-0008-05-3c91cc3.p\n",
      "BLAC_SimAnneal-OneHot-0008-06-3c12aeb4.p BLAC_SA_config-OneHot-0008-06-3c12aeb4.p\n",
      "BLAC_SimAnneal-OneHot-0008-07-590fdd6.p BLAC_SA_config-OneHot-0008-07-590fdd6.p\n",
      "BLAC_SimAnneal-OneHot-0008-08-277de46b.p BLAC_SA_config-OneHot-0008-08-277de46b.p\n",
      "BLAC_SimAnneal-OneHot-0008-09-32617971.p BLAC_SA_config-OneHot-0008-09-32617971.p\n",
      "BLAC_SimAnneal-OneHot-0024-00-15ce00a7.p BLAC_SA_config-OneHot-0024-00-15ce00a7.p\n",
      "BLAC_SimAnneal-OneHot-0024-01-15947f78.p BLAC_SA_config-OneHot-0024-01-15947f78.p\n",
      "BLAC_SimAnneal-OneHot-0024-02-1d0c4863.p BLAC_SA_config-OneHot-0024-02-1d0c4863.p\n",
      "BLAC_SimAnneal-OneHot-0024-03-1931926.p BLAC_SA_config-OneHot-0024-03-1931926.p\n",
      "BLAC_SimAnneal-OneHot-0024-04-1989c098.p BLAC_SA_config-OneHot-0024-04-1989c098.p\n",
      "BLAC_SimAnneal-OneHot-0024-05-1db7f283.p BLAC_SA_config-OneHot-0024-05-1db7f283.p\n",
      "BLAC_SimAnneal-OneHot-0024-06-33c52d51.p BLAC_SA_config-OneHot-0024-06-33c52d51.p\n",
      "BLAC_SimAnneal-OneHot-0024-07-2c027c91.p BLAC_SA_config-OneHot-0024-07-2c027c91.p\n",
      "BLAC_SimAnneal-OneHot-0024-08-2d38167d.p BLAC_SA_config-OneHot-0024-08-2d38167d.p\n",
      "BLAC_SimAnneal-OneHot-0024-09-3ac4d415.p BLAC_SA_config-OneHot-0024-09-3ac4d415.p\n",
      "BLAC_SimAnneal-OneHot-0096-00-2277bff5.p BLAC_SA_config-OneHot-0096-00-2277bff5.p\n",
      "BLAC_SimAnneal-OneHot-0096-01-bb13a0.p BLAC_SA_config-OneHot-0096-01-bb13a0.p\n",
      "BLAC_SimAnneal-OneHot-0096-02-311cbde3.p BLAC_SA_config-OneHot-0096-02-311cbde3.p\n",
      "BLAC_SimAnneal-OneHot-0096-03-108b3ec7.p BLAC_SA_config-OneHot-0096-03-108b3ec7.p\n",
      "BLAC_SimAnneal-OneHot-0096-04-1a4d5748.p BLAC_SA_config-OneHot-0096-04-1a4d5748.p\n",
      "BLAC_SimAnneal-OneHot-0096-05-368a23ad.p BLAC_SA_config-OneHot-0096-05-368a23ad.p\n",
      "BLAC_SimAnneal-OneHot-0096-06-72f0c5d.p BLAC_SA_config-OneHot-0096-06-72f0c5d.p\n",
      "BLAC_SimAnneal-OneHot-0096-07-3d94be85.p BLAC_SA_config-OneHot-0096-07-3d94be85.p\n",
      "BLAC_SimAnneal-OneHot-0096-08-2eafabb6.p BLAC_SA_config-OneHot-0096-08-2eafabb6.p\n",
      "BLAC_SimAnneal-OneHot-0096-09-19945684.p BLAC_SA_config-OneHot-0096-09-19945684.p\n"
     ]
    }
   ],
   "source": [
    "np.random.seed(1)\n",
    "random.seed(1)\n",
    "\n",
    "output_dir = 'hyperborg'\n",
    "N_seq = 3500\n",
    "\n",
    "for m in models:\n",
    "    for n_train in n_train_seqs:\n",
    "        for seed in seeds:\n",
    "\n",
    "            output_file_base = '%s-%04d-%02d-%x.p' % (m, n_train, seed, random.randrange(2**30))\n",
    "            sa_results_file = 'BLAC_SimAnneal-' + output_file_base\n",
    "            config_file = 'BLAC_SA_config-' + output_file_base\n",
    "            \n",
    "            print(sa_results_file, config_file)\n",
    "            \n",
    "            \n",
    "            config = {\n",
    "                'seed': seed,\n",
    "                'n_train_seqs': n_train,\n",
    "                'model': m,\n",
    "                'n_chains': N_seq,\n",
    "                'T_max': np.ones(N_seq)*(10**(-2)), # Same as GFP see A006g. \n",
    "                'sa_n_iter': 3000, \n",
    "                'temp_decay_rate': 1.0,\n",
    "                'min_mut_pos': A006_common.BLAC_LIB_REGION[0],\n",
    "                'max_mut_pos': A006_common.BLAC_LIB_REGION[1],\n",
    "                'nmut_threshold': 7, # different than GFP\n",
    "                'output_file': sa_results_file\n",
    "            }\n",
    "            \n",
    "            with open(os.path.join(output_dir, config_file), 'wb') as f:\n",
    "                pickle.dump(file=f, obj=config)"
   ]
  },
  {
   "cell_type": "markdown",
   "metadata": {},
   "source": [
    "Let's also generate a special set of configs where we open up the mutation radius to 15."
   ]
  },
  {
   "cell_type": "code",
   "execution_count": 6,
   "metadata": {},
   "outputs": [
    {
     "name": "stdout",
     "output_type": "stream",
     "text": [
      "BLAC_SimAnneal-LargeMut-ET_Global_Init_1-0096-00-2bc1d82f.p BLAC_SA_config-LargeMut-ET_Global_Init_1-0096-00-2bc1d82f.p\n",
      "BLAC_SimAnneal-LargeMut-ET_Random_Init_1-0096-00-21e3a907.p BLAC_SA_config-LargeMut-ET_Random_Init_1-0096-00-21e3a907.p\n",
      "BLAC_SimAnneal-LargeMut-OneHot-0096-00-75e84ab.p BLAC_SA_config-LargeMut-OneHot-0096-00-75e84ab.p\n"
     ]
    }
   ],
   "source": [
    "np.random.seed(234)\n",
    "random.seed(234)\n",
    "\n",
    "output_dir = 'hyperborg'\n",
    "N_seq = 3500\n",
    "\n",
    "for m in models:\n",
    "    n_train = 96\n",
    "    seed = 0\n",
    "    \n",
    "    output_file_base = 'LargeMut-%s-%04d-%02d-%x.p' % (m, n_train, seed, random.randrange(2**30))\n",
    "    sa_results_file = 'BLAC_SimAnneal-' + output_file_base\n",
    "    config_file = 'BLAC_SA_config-' + output_file_base\n",
    "\n",
    "    print(sa_results_file, config_file)\n",
    "\n",
    "\n",
    "    config = {\n",
    "        'seed': seed,\n",
    "        'n_train_seqs': n_train,\n",
    "        'model': m,\n",
    "        'n_chains': N_seq,\n",
    "        'T_max': np.ones(N_seq)*(10**(-2)), # Same as GFP see A006g. \n",
    "        'sa_n_iter': 3000, \n",
    "        'temp_decay_rate': 1.0,\n",
    "        'min_mut_pos': A006_common.BLAC_LIB_REGION[0],\n",
    "        'max_mut_pos': A006_common.BLAC_LIB_REGION[1],\n",
    "        'nmut_threshold': 15, # different than GFP\n",
    "        'output_file': sa_results_file\n",
    "    }\n",
    "\n",
    "    with open(os.path.join(output_dir, config_file), 'wb') as f:\n",
    "        pickle.dump(file=f, obj=config)"
   ]
  }
 ],
 "metadata": {
  "kernelspec": {
   "display_name": "Python 3",
   "language": "python",
   "name": "python3"
  },
  "language_info": {
   "codemirror_mode": {
    "name": "ipython",
    "version": 3
   },
   "file_extension": ".py",
   "mimetype": "text/x-python",
   "name": "python",
   "nbconvert_exporter": "python",
   "pygments_lexer": "ipython3",
   "version": "3.5.2"
  }
 },
 "nbformat": 4,
 "nbformat_minor": 2
}
