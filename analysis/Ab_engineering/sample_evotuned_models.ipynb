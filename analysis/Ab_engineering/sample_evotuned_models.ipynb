{
 "cells": [
  {
   "cell_type": "markdown",
   "metadata": {},
   "source": [
    "# Analyze evotuned models\n",
    "\n",
    "Examine the sequences sampled by evotuned models. Do they apprear antibody-like? How similar/dissimilar are they from the training data?"
   ]
  },
  {
   "cell_type": "code",
   "execution_count": 1,
   "metadata": {
    "collapsed": true
   },
   "outputs": [],
   "source": [
    "import tensorflow as tf\n",
    "import numpy as np\n",
    "import pandas as pd\n",
    "from unirep import babbler1900"
   ]
  },
  {
   "cell_type": "code",
   "execution_count": 2,
   "metadata": {
    "collapsed": true
   },
   "outputs": [],
   "source": [
    "# available weight dirs\n",
    "BATCH_SZ = 256\n",
    "VH_VL_WEIGHTS = \"vh_vl_weights\"\n",
    "VH_WEIGHTS = \"vh_weights\"\n",
    "VL_WEIGHTS = \"vl_weights\"\n",
    "SAMPLES_DIR = \"samples\""
   ]
  },
  {
   "cell_type": "code",
   "execution_count": 3,
   "metadata": {
    "collapsed": true
   },
   "outputs": [],
   "source": [
    "def generate_seqs(model, n=10, temp=1.0, max_len=300) -> list:\n",
    "    seqs = []\n",
    "    for _ in range(n):\n",
    "        seqs.append(model.get_babble(\"\", length=max_len, temp=temp))\n",
    "    return seqs\n"
   ]
  },
  {
   "cell_type": "code",
   "execution_count": 4,
   "metadata": {
    "collapsed": true
   },
   "outputs": [],
   "source": [
    "def to_fasta(seqs:list, file:str, name_prefix:str):\n",
    "    with open(file, \"w\") as fasta:\n",
    "        for i, s in enumerate(seqs):\n",
    "            fasta.write(\">{}{}\\n{}\\n\".format(name_prefix, str(i+1), s))\n"
   ]
  },
  {
   "cell_type": "markdown",
   "metadata": {},
   "source": [
    "## VH model\n",
    "\n",
    "Sample seqs from the VH model using a range of temperatures and examine the resulting sequences"
   ]
  },
  {
   "cell_type": "code",
   "execution_count": 5,
   "metadata": {},
   "outputs": [
    {
     "name": "stderr",
     "output_type": "stream",
     "text": [
      "/usr/local/lib/python3.5/dist-packages/h5py/__init__.py:34: FutureWarning: Conversion of the second argument of issubdtype from `float` to `np.floating` is deprecated. In future, it will be treated as `np.float64 == np.dtype(float).type`.\n",
      "  from ._conv import register_converters as _register_converters\n"
     ]
    }
   ],
   "source": [
    "vh_model = babbler1900(model_path=VH_WEIGHTS, batch_size=BATCH_SZ)"
   ]
  },
  {
   "cell_type": "code",
   "execution_count": 6,
   "metadata": {
    "collapsed": true
   },
   "outputs": [],
   "source": [
    "vh_seqs_ht = generate_seqs(vh_model, n=10, temp=1.0)"
   ]
  },
  {
   "cell_type": "code",
   "execution_count": 7,
   "metadata": {
    "collapsed": true
   },
   "outputs": [],
   "source": [
    "vh_seqs_lt = generate_seqs(vh_model, n=10, temp=0.5)"
   ]
  },
  {
   "cell_type": "code",
   "execution_count": 8,
   "metadata": {
    "collapsed": true
   },
   "outputs": [],
   "source": [
    "to_fasta(vh_seqs_ht + vh_seqs_lt, \"samples/vh_samples.fasta\", name_prefix=\"VH\")"
   ]
  },
  {
   "cell_type": "code",
   "execution_count": 9,
   "metadata": {
    "collapsed": true
   },
   "outputs": [],
   "source": [
    "# clear varibles from tf graph -> needed for loading a new model\n",
    "tf.reset_default_graph()"
   ]
  },
  {
   "cell_type": "markdown",
   "metadata": {},
   "source": [
    "## VL model\n",
    "\n",
    "Sample seqs from the VL model using a range of temperatures and examine the resulting sequences"
   ]
  },
  {
   "cell_type": "code",
   "execution_count": 10,
   "metadata": {
    "collapsed": true
   },
   "outputs": [],
   "source": [
    "vl_model = babbler1900(model_path=VL_WEIGHTS, batch_size=BATCH_SZ)"
   ]
  },
  {
   "cell_type": "code",
   "execution_count": 11,
   "metadata": {
    "collapsed": true
   },
   "outputs": [],
   "source": [
    "vl_seqs_ht = generate_seqs(vl_model, n=10, temp=1.0)"
   ]
  },
  {
   "cell_type": "code",
   "execution_count": 12,
   "metadata": {
    "collapsed": true
   },
   "outputs": [],
   "source": [
    "vl_seqs_lt = generate_seqs(vl_model, n=10, temp=0.5)"
   ]
  },
  {
   "cell_type": "code",
   "execution_count": 13,
   "metadata": {
    "collapsed": true
   },
   "outputs": [],
   "source": [
    "to_fasta(vl_seqs_ht + vl_seqs_lt, \"samples/vl_samples.fasta\", name_prefix=\"VL\")"
   ]
  },
  {
   "cell_type": "code",
   "execution_count": 14,
   "metadata": {
    "collapsed": true
   },
   "outputs": [],
   "source": [
    "# clear varibles from tf graph -> needed for loading a new model\n",
    "tf.reset_default_graph()"
   ]
  },
  {
   "cell_type": "markdown",
   "metadata": {},
   "source": [
    "## Create pairs for batch homology modelling\n",
    "\n",
    "Input for Schrodinger AB structure prediction."
   ]
  },
  {
   "cell_type": "code",
   "execution_count": 15,
   "metadata": {},
   "outputs": [
    {
     "data": {
      "text/html": [
       "<div>\n",
       "<style scoped>\n",
       "    .dataframe tbody tr th:only-of-type {\n",
       "        vertical-align: middle;\n",
       "    }\n",
       "\n",
       "    .dataframe tbody tr th {\n",
       "        vertical-align: top;\n",
       "    }\n",
       "\n",
       "    .dataframe thead th {\n",
       "        text-align: right;\n",
       "    }\n",
       "</style>\n",
       "<table border=\"1\" class=\"dataframe\">\n",
       "  <thead>\n",
       "    <tr style=\"text-align: right;\">\n",
       "      <th></th>\n",
       "      <th>Name</th>\n",
       "      <th>VH</th>\n",
       "      <th>VL</th>\n",
       "    </tr>\n",
       "  </thead>\n",
       "  <tbody>\n",
       "    <tr>\n",
       "      <th>0</th>\n",
       "      <td>sample_1</td>\n",
       "      <td>EVQLVETGGGLIQPGGSLTLSCAASGFTVSNNYMSWGRQAPGKGLE...</td>\n",
       "      <td>QSVLTQPRSVSGAPGQRVTISCTGSNSNIGAGYDVHWYQQLPGRAP...</td>\n",
       "    </tr>\n",
       "    <tr>\n",
       "      <th>1</th>\n",
       "      <td>sample_2</td>\n",
       "      <td>QVQLVQSGAEVKKPGSSVKVSCKASGGTFSSYAISWVRQAPGQGLE...</td>\n",
       "      <td>QSALTQPRSVSGSTGQSVTIYCSGSRSDVGGYKYVSWYQQHPGKAP...</td>\n",
       "    </tr>\n",
       "    <tr>\n",
       "      <th>2</th>\n",
       "      <td>sample_3</td>\n",
       "      <td>EVQLVESAGGLVKPGGSLRLSCRASGFPVSSYGMSWVRQAPGKGPE...</td>\n",
       "      <td>SGQTQPLSVSGSPGPRTTISCTGTSNDVGGNSDVSWYQQRPGTAPK...</td>\n",
       "    </tr>\n",
       "    <tr>\n",
       "      <th>3</th>\n",
       "      <td>sample_4</td>\n",
       "      <td>QVQLVESGGGLVKPGRSLRLSCAASGFTFSQYSMSWVRQAPGKGLE...</td>\n",
       "      <td>QLVLTQSPSASASLGASVKLTCTLNSEHGSYPIAWHQRQTEKGPRY...</td>\n",
       "    </tr>\n",
       "    <tr>\n",
       "      <th>4</th>\n",
       "      <td>sample_5</td>\n",
       "      <td>EVQLLESGGGLVQPGGSLRLSCAASGFTFSSYAMSWVRQAPGRGLE...</td>\n",
       "      <td>QTVVTQEPSFSVSPGGTVTLTCGSRSGAVTAGHYPAWFQQKPGQAP...</td>\n",
       "    </tr>\n",
       "    <tr>\n",
       "      <th>5</th>\n",
       "      <td>sample_6</td>\n",
       "      <td>EVQLLESGGDLVQPGGSLRLSCAASGFTFSIFAMTWVRQAPGKGLE...</td>\n",
       "      <td>QSVLTPPPSVSGAQGQKLTIPCTRSSSNIGAGYDVHWYQQLPGTAP...</td>\n",
       "    </tr>\n",
       "    <tr>\n",
       "      <th>6</th>\n",
       "      <td>sample_7</td>\n",
       "      <td>QLQLQESGPGLVKPSETLSLTCTVSGGSLSRSSDYWAWSRPPPKKG...</td>\n",
       "      <td>QSVLAQPPSASGTPGQRVTIPCSGSSSNIRSNAVNWYQQLPGTAPK...</td>\n",
       "    </tr>\n",
       "    <tr>\n",
       "      <th>7</th>\n",
       "      <td>sample_8</td>\n",
       "      <td>EVQLVESGGGLVKPGGSLRLSCEASGFTFSSYSMNWVRQAPGKGLE...</td>\n",
       "      <td>QSALTQPASVSGSPGQSITISCTGSLSDVGTYYGKWLPQTPGQAHH...</td>\n",
       "    </tr>\n",
       "    <tr>\n",
       "      <th>8</th>\n",
       "      <td>sample_9</td>\n",
       "      <td>EVQLVESGGGLVKPGGSLRLSCAASGFTFSSYNMNWVRQAPGKGLE...</td>\n",
       "      <td>SVLTQPPSVSGAPGQRVTIPCSGSRSNIGAGYDVHWYQQLPGTAPK...</td>\n",
       "    </tr>\n",
       "    <tr>\n",
       "      <th>9</th>\n",
       "      <td>sample_10</td>\n",
       "      <td>EVQLLESGGGLAQPGGSLKVSCTASGFTFRSTAMSWVRQAPGQGLE...</td>\n",
       "      <td>QSVLTQPPSASGTPGQRVTIPCSGTSSDIGSNYVYWYQHLPGTAPK...</td>\n",
       "    </tr>\n",
       "    <tr>\n",
       "      <th>10</th>\n",
       "      <td>sample_11</td>\n",
       "      <td>QVQLVQSGAEVKKPGASVKVSCKASGYTFTSYGISWVRQAPGQGLE...</td>\n",
       "      <td>QSALTQPASVSGSPGQSITISCTGTSSDVGSYNLVSWYQQHPGKAP...</td>\n",
       "    </tr>\n",
       "    <tr>\n",
       "      <th>11</th>\n",
       "      <td>sample_12</td>\n",
       "      <td>EVQLVESGGGLVQPGGSLRLSCAASGFTFSSYWMHWVRQAPGKGLV...</td>\n",
       "      <td>QSVLTQPPSVSGAPGQRVTISCTGSSSNIGAGYDVHWYQQLPGTAP...</td>\n",
       "    </tr>\n",
       "    <tr>\n",
       "      <th>12</th>\n",
       "      <td>sample_13</td>\n",
       "      <td>EVQLVESGGGLVQPGGSLRLSCAASGFTFSSYSMNWVRQAPGKGLE...</td>\n",
       "      <td>SYVLTQPPSVSVAPGQTARITCGGNNIGSKSVHWYQQKPGQAPVLV...</td>\n",
       "    </tr>\n",
       "    <tr>\n",
       "      <th>13</th>\n",
       "      <td>sample_14</td>\n",
       "      <td>EVQLVESGGGLVQPGGSLRLSCAASGFTFSSYWMHWVRQAPGKGLV...</td>\n",
       "      <td>QSVLTQPPSVSGAPGQRVTISCTGSSSNIGAGYDVHWYQQLPGTAP...</td>\n",
       "    </tr>\n",
       "    <tr>\n",
       "      <th>14</th>\n",
       "      <td>sample_15</td>\n",
       "      <td>EVQLVESGGGLVQPGGSLRLSCAASGFTFSSYWMSWVRQAPGKGLE...</td>\n",
       "      <td>QSVLTQPPSVSGAPGQRVTISCTGSSSNIGAGYDVHWYQQLPGTAP...</td>\n",
       "    </tr>\n",
       "    <tr>\n",
       "      <th>15</th>\n",
       "      <td>sample_16</td>\n",
       "      <td>EVQLVESGGGLVKPGGSLRLSCAASGFTFSSYSMNWVRQAPGKGLE...</td>\n",
       "      <td>QSVLTQPPSVSGAPGQRVTISCTGSSSNIGAGYDVHWYQQLPGTAP...</td>\n",
       "    </tr>\n",
       "    <tr>\n",
       "      <th>16</th>\n",
       "      <td>sample_17</td>\n",
       "      <td>QVQLVQSGAEVKKPGSSVKVSCKASGGTFSSYAISWVRQAPGQGLE...</td>\n",
       "      <td>QSALTQPASVSGSPGQSITISCTGTSSDVGGYNYVSWYQQHPGKAP...</td>\n",
       "    </tr>\n",
       "    <tr>\n",
       "      <th>17</th>\n",
       "      <td>sample_18</td>\n",
       "      <td>EVQLVESGGGLVKPGGSLRLSCAASGFTFSNAWMSWVRQAPGKGLE...</td>\n",
       "      <td>QSVLTQPPSVSGAPGQRVTISCTGSSSNIGAGYDVHWYQQLPGTAP...</td>\n",
       "    </tr>\n",
       "    <tr>\n",
       "      <th>18</th>\n",
       "      <td>sample_19</td>\n",
       "      <td>EVQLVESGGGLVKPGGSLRLSCAASGFTFSNAWMSWVRQAPGKGLE...</td>\n",
       "      <td>SYELTQPPSVSVSPGQTASITCSGDKLGDKYACWYQQKPGQSPVLV...</td>\n",
       "    </tr>\n",
       "    <tr>\n",
       "      <th>19</th>\n",
       "      <td>sample_20</td>\n",
       "      <td>QVQLVESGGGVVQPGRSLRLSCAASGFTFSSYGMHWVRQAPGKGLE...</td>\n",
       "      <td>QSVLTQPPSVSGAPGQRVTISCTGSSSNIGAGYDVHWYQQLPGTAP...</td>\n",
       "    </tr>\n",
       "  </tbody>\n",
       "</table>\n",
       "</div>"
      ],
      "text/plain": [
       "         Name                                                 VH  \\\n",
       "0    sample_1  EVQLVETGGGLIQPGGSLTLSCAASGFTVSNNYMSWGRQAPGKGLE...   \n",
       "1    sample_2  QVQLVQSGAEVKKPGSSVKVSCKASGGTFSSYAISWVRQAPGQGLE...   \n",
       "2    sample_3  EVQLVESAGGLVKPGGSLRLSCRASGFPVSSYGMSWVRQAPGKGPE...   \n",
       "3    sample_4  QVQLVESGGGLVKPGRSLRLSCAASGFTFSQYSMSWVRQAPGKGLE...   \n",
       "4    sample_5  EVQLLESGGGLVQPGGSLRLSCAASGFTFSSYAMSWVRQAPGRGLE...   \n",
       "5    sample_6  EVQLLESGGDLVQPGGSLRLSCAASGFTFSIFAMTWVRQAPGKGLE...   \n",
       "6    sample_7  QLQLQESGPGLVKPSETLSLTCTVSGGSLSRSSDYWAWSRPPPKKG...   \n",
       "7    sample_8  EVQLVESGGGLVKPGGSLRLSCEASGFTFSSYSMNWVRQAPGKGLE...   \n",
       "8    sample_9  EVQLVESGGGLVKPGGSLRLSCAASGFTFSSYNMNWVRQAPGKGLE...   \n",
       "9   sample_10  EVQLLESGGGLAQPGGSLKVSCTASGFTFRSTAMSWVRQAPGQGLE...   \n",
       "10  sample_11  QVQLVQSGAEVKKPGASVKVSCKASGYTFTSYGISWVRQAPGQGLE...   \n",
       "11  sample_12  EVQLVESGGGLVQPGGSLRLSCAASGFTFSSYWMHWVRQAPGKGLV...   \n",
       "12  sample_13  EVQLVESGGGLVQPGGSLRLSCAASGFTFSSYSMNWVRQAPGKGLE...   \n",
       "13  sample_14  EVQLVESGGGLVQPGGSLRLSCAASGFTFSSYWMHWVRQAPGKGLV...   \n",
       "14  sample_15  EVQLVESGGGLVQPGGSLRLSCAASGFTFSSYWMSWVRQAPGKGLE...   \n",
       "15  sample_16  EVQLVESGGGLVKPGGSLRLSCAASGFTFSSYSMNWVRQAPGKGLE...   \n",
       "16  sample_17  QVQLVQSGAEVKKPGSSVKVSCKASGGTFSSYAISWVRQAPGQGLE...   \n",
       "17  sample_18  EVQLVESGGGLVKPGGSLRLSCAASGFTFSNAWMSWVRQAPGKGLE...   \n",
       "18  sample_19  EVQLVESGGGLVKPGGSLRLSCAASGFTFSNAWMSWVRQAPGKGLE...   \n",
       "19  sample_20  QVQLVESGGGVVQPGRSLRLSCAASGFTFSSYGMHWVRQAPGKGLE...   \n",
       "\n",
       "                                                   VL  \n",
       "0   QSVLTQPRSVSGAPGQRVTISCTGSNSNIGAGYDVHWYQQLPGRAP...  \n",
       "1   QSALTQPRSVSGSTGQSVTIYCSGSRSDVGGYKYVSWYQQHPGKAP...  \n",
       "2   SGQTQPLSVSGSPGPRTTISCTGTSNDVGGNSDVSWYQQRPGTAPK...  \n",
       "3   QLVLTQSPSASASLGASVKLTCTLNSEHGSYPIAWHQRQTEKGPRY...  \n",
       "4   QTVVTQEPSFSVSPGGTVTLTCGSRSGAVTAGHYPAWFQQKPGQAP...  \n",
       "5   QSVLTPPPSVSGAQGQKLTIPCTRSSSNIGAGYDVHWYQQLPGTAP...  \n",
       "6   QSVLAQPPSASGTPGQRVTIPCSGSSSNIRSNAVNWYQQLPGTAPK...  \n",
       "7   QSALTQPASVSGSPGQSITISCTGSLSDVGTYYGKWLPQTPGQAHH...  \n",
       "8   SVLTQPPSVSGAPGQRVTIPCSGSRSNIGAGYDVHWYQQLPGTAPK...  \n",
       "9   QSVLTQPPSASGTPGQRVTIPCSGTSSDIGSNYVYWYQHLPGTAPK...  \n",
       "10  QSALTQPASVSGSPGQSITISCTGTSSDVGSYNLVSWYQQHPGKAP...  \n",
       "11  QSVLTQPPSVSGAPGQRVTISCTGSSSNIGAGYDVHWYQQLPGTAP...  \n",
       "12  SYVLTQPPSVSVAPGQTARITCGGNNIGSKSVHWYQQKPGQAPVLV...  \n",
       "13  QSVLTQPPSVSGAPGQRVTISCTGSSSNIGAGYDVHWYQQLPGTAP...  \n",
       "14  QSVLTQPPSVSGAPGQRVTISCTGSSSNIGAGYDVHWYQQLPGTAP...  \n",
       "15  QSVLTQPPSVSGAPGQRVTISCTGSSSNIGAGYDVHWYQQLPGTAP...  \n",
       "16  QSALTQPASVSGSPGQSITISCTGTSSDVGGYNYVSWYQQHPGKAP...  \n",
       "17  QSVLTQPPSVSGAPGQRVTISCTGSSSNIGAGYDVHWYQQLPGTAP...  \n",
       "18  SYELTQPPSVSVSPGQTASITCSGDKLGDKYACWYQQKPGQSPVLV...  \n",
       "19  QSVLTQPPSVSGAPGQRVTISCTGSSSNIGAGYDVHWYQQLPGTAP...  "
      ]
     },
     "execution_count": 15,
     "metadata": {},
     "output_type": "execute_result"
    }
   ],
   "source": [
    "vh_seqs = vh_seqs_ht + vh_seqs_lt\n",
    "vl_seqs = vl_seqs_ht + vl_seqs_lt\n",
    "vh_vl_df = pd.DataFrame({\n",
    "    \"Name\":[\"sample_{}\".format(i+1) for i in range(len(vh_seqs))],\n",
    "    \"VH\": vh_seqs,\n",
    "    \"VL\": vl_seqs\n",
    "})\n",
    "vh_vl_df"
   ]
  },
  {
   "cell_type": "code",
   "execution_count": 16,
   "metadata": {
    "collapsed": true
   },
   "outputs": [],
   "source": [
    "vh_vl_df.to_csv(\"samples/vh_vl_paired.csv\", index=False)"
   ]
  },
  {
   "cell_type": "markdown",
   "metadata": {
    "collapsed": true
   },
   "source": [
    "## VH.VL paired model\n",
    "\n",
    "Need to split generated sequences into VH/VL parts -> may be very difficult."
   ]
  },
  {
   "cell_type": "code",
   "execution_count": 17,
   "metadata": {
    "collapsed": true
   },
   "outputs": [],
   "source": [
    "vh_vl_model = babbler1900(model_path=VH_VL_WEIGHTS, batch_size=BATCH_SZ)"
   ]
  },
  {
   "cell_type": "code",
   "execution_count": 18,
   "metadata": {
    "collapsed": true
   },
   "outputs": [],
   "source": [
    "vh_vl_seqs_ht = generate_seqs(vh_vl_model, n=10, temp=1.0)"
   ]
  },
  {
   "cell_type": "code",
   "execution_count": 19,
   "metadata": {
    "collapsed": true
   },
   "outputs": [],
   "source": [
    "vh_vl_seqs_lt = generate_seqs(vh_vl_model, n=10, temp=0.5)"
   ]
  },
  {
   "cell_type": "code",
   "execution_count": 21,
   "metadata": {
    "collapsed": true
   },
   "outputs": [],
   "source": [
    "to_fasta(vh_vl_seqs_ht + vh_vl_seqs_lt, \"samples/vh_vl_samples.fasta\", name_prefix=\"VH_VL\")"
   ]
  },
  {
   "cell_type": "markdown",
   "metadata": {},
   "source": [
    "Performing MSA on the sampled VH.VL sequences shows that they separate fairly well and CDR:s can be annotated by Schrodinger."
   ]
  },
  {
   "cell_type": "code",
   "execution_count": null,
   "metadata": {
    "collapsed": true
   },
   "outputs": [],
   "source": []
  }
 ],
 "metadata": {
  "kernelspec": {
   "display_name": "Python 3",
   "language": "python",
   "name": "python3"
  },
  "language_info": {
   "codemirror_mode": {
    "name": "ipython",
    "version": 3
   },
   "file_extension": ".py",
   "mimetype": "text/x-python",
   "name": "python",
   "nbconvert_exporter": "python",
   "pygments_lexer": "ipython3",
   "version": "3.5.2"
  }
 },
 "nbformat": 4,
 "nbformat_minor": 2
}
