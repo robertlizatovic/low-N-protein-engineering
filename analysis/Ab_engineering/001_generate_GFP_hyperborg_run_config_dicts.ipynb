{
 "cells": [
  {
   "cell_type": "code",
   "execution_count": 1,
   "metadata": {},
   "outputs": [
    {
     "name": "stdout",
     "output_type": "stream",
     "text": [
      "\u001b[33mDEPRECATION: Python 3.5 reached the end of its life on September 13th, 2020. Please upgrade your Python as Python 3.5 is no longer maintained. pip 21.0 will drop support for Python 3.5 in January 2021. pip 21.0 will remove support for this functionality.\u001b[0m\n",
      "Requirement already satisfied: python-Levenshtein in /usr/local/lib/python3.5/dist-packages (0.12.0)\n",
      "Requirement already satisfied: setuptools in /usr/local/lib/python3.5/dist-packages (from python-Levenshtein) (36.2.7)\n"
     ]
    }
   ],
   "source": [
    "!pip install python-Levenshtein"
   ]
  },
  {
   "cell_type": "code",
   "execution_count": 2,
   "metadata": {
    "collapsed": true
   },
   "outputs": [],
   "source": [
    "import os\n",
    "import sys\n",
    "import warnings\n",
    "import random\n",
    "import copy\n",
    "import pickle\n",
    "\n",
    "import numpy as np\n",
    "import pandas as pd\n",
    "import matplotlib.pyplot as plt\n",
    "\n",
    "sys.path.append('../common')\n",
    "import data_io_utils\n",
    "import paths\n",
    "import constants\n",
    "import utils\n",
    "\n",
    "sys.path.append('../A003_policy_optimization/')\n",
    "import A003_common\n",
    "\n",
    "import A006_common"
   ]
  },
  {
   "cell_type": "markdown",
   "metadata": {},
   "source": [
    "## Generate an example config to play around with"
   ]
  },
  {
   "cell_type": "code",
   "execution_count": 3,
   "metadata": {
    "collapsed": true
   },
   "outputs": [],
   "source": [
    "output_dir = 'hyperborg'"
   ]
  },
  {
   "cell_type": "code",
   "execution_count": 4,
   "metadata": {
    "collapsed": true
   },
   "outputs": [],
   "source": [
    "N_seq = 3500\n",
    "sa_output_dir = os.path.join(data_io_utils.S3_DATA_ROOT, 'chip_1/simulated_annealing/GFP')\n",
    "\n",
    "example_config = {\n",
    "    'seed': 1,\n",
    "    'n_train_seqs': 96,\n",
    "    'model': 'ET_Global_Init_1',\n",
    "    'n_chains': N_seq,\n",
    "    'T_max': np.ones(N_seq)*(10**(-2)),\n",
    "    'sa_n_iter': 500, # debug\n",
    "    'temp_decay_rate': 1.0,\n",
    "    'min_mut_pos': A006_common.GFP_LIB_REGION[0],\n",
    "    'max_mut_pos': A006_common.GFP_LIB_REGION[1],\n",
    "    'nmut_threshold': 15,\n",
    "    'output_file': 'example_sa_hyperborg.p'\n",
    "}\n",
    "\n",
    "with open(os.path.join(output_dir, 'example_config.p'), 'wb') as f:\n",
    "    pickle.dump(file=f, obj=example_config)"
   ]
  },
  {
   "cell_type": "code",
   "execution_count": 5,
   "metadata": {
    "collapsed": true
   },
   "outputs": [],
   "source": [
    "N_seq = 3500\n",
    "sa_output_dir = os.path.join(data_io_utils.S3_DATA_ROOT, 'chip_1/simulated_annealing/GFP')\n",
    "\n",
    "example_config = {\n",
    "    'seed': 2,\n",
    "    'n_train_seqs': 96,\n",
    "    'model': 'OneHot',\n",
    "    'n_chains': N_seq,\n",
    "    'T_max': np.ones(N_seq)*(10**(-2)),\n",
    "    'sa_n_iter': 3, # debug\n",
    "    'temp_decay_rate': 1.0,\n",
    "    'min_mut_pos': A006_common.GFP_LIB_REGION[0],\n",
    "    'max_mut_pos': A006_common.GFP_LIB_REGION[1],\n",
    "    'nmut_threshold': 15,\n",
    "    'output_file': 'example_sa_hyperborg_2.p'\n",
    "}\n",
    "\n",
    "with open(os.path.join(output_dir, 'example_config_2.p'), 'wb') as f:\n",
    "    pickle.dump(file=f, obj=example_config)"
   ]
  },
  {
   "cell_type": "markdown",
   "metadata": {},
   "source": [
    "Examine the example results"
   ]
  },
  {
   "cell_type": "code",
   "execution_count": 6,
   "metadata": {},
   "outputs": [],
   "source": [
    "res_file = os.path.join(sa_output_dir, example_config['output_file'])\n",
    "data_io_utils.sync_s3_path_to_local(res_file, is_single_file=True)\n",
    "\n",
    "with open(res_file, 'rb') as f:\n",
    "    res = pickle.load(f)"
   ]
  },
  {
   "cell_type": "code",
   "execution_count": 7,
   "metadata": {},
   "outputs": [
    {
     "data": {
      "text/plain": [
       "dict_keys(['sa_results', 'train_seq_reps', 'top_model', 'train_df', 'base_model'])"
      ]
     },
     "execution_count": 7,
     "metadata": {},
     "output_type": "execute_result"
    }
   ],
   "source": [
    "res.keys()"
   ]
  },
  {
   "cell_type": "code",
   "execution_count": 8,
   "metadata": {},
   "outputs": [
    {
     "data": {
      "text/plain": [
       "dict_keys(['max_mut_pos', 'decay_rate', 'seq_history', 'k', 'mu_muts_per_seq', 'fitness_history', 'fitness_mem_pred_history', 'fitness_std_history', 'n_iter', 'T_max', 'min_mut_pos', 'init_seqs'])"
      ]
     },
     "execution_count": 8,
     "metadata": {},
     "output_type": "execute_result"
    }
   ],
   "source": [
    "res['sa_results'].keys()"
   ]
  },
  {
   "cell_type": "markdown",
   "metadata": {},
   "source": [
    "Check amino acids outside of the mutation region are not mutated."
   ]
  },
  {
   "cell_type": "code",
   "execution_count": 9,
   "metadata": {
    "collapsed": true
   },
   "outputs": [],
   "source": [
    "all_seqs = list(np.array(res['sa_results']['seq_history']).reshape(-1))\n",
    "for s in all_seqs:\n",
    "    assert s[:A006_common.GFP_LIB_REGION[0]] == constants.AVGFP_AA_SEQ[:A006_common.GFP_LIB_REGION[0]]\n",
    "    assert s[A006_common.GFP_LIB_REGION[1]:] == constants.AVGFP_AA_SEQ[A006_common.GFP_LIB_REGION[1]:]"
   ]
  },
  {
   "cell_type": "markdown",
   "metadata": {},
   "source": [
    "## Create all the config dictionaries we would ever want!"
   ]
  },
  {
   "cell_type": "code",
   "execution_count": 10,
   "metadata": {
    "collapsed": true
   },
   "outputs": [],
   "source": [
    "models = ['ET_Global_Init_1', 'ET_Global_Init_2', 'ET_Random_Init_1', 'OneHot']\n",
    "n_train_seqs = [8, 24, 96]\n",
    "seeds = list(np.arange(10)) # Defines training sets that will be used.\n",
    "\n",
    "# Note that although the seed defines the training set, \n",
    "#there is some additional randomness due to the "
   ]
  },
  {
   "cell_type": "code",
   "execution_count": 11,
   "metadata": {},
   "outputs": [
    {
     "name": "stdout",
     "output_type": "stream",
     "text": [
      "GFP_SimAnneal-ET_Global_Init_1-0008-00-1132d8fa.p GFP_SA_config-ET_Global_Init_1-0008-00-1132d8fa.p\n",
      "GFP_SimAnneal-ET_Global_Init_1-0008-01-813e268.p GFP_SA_config-ET_Global_Init_1-0008-01-813e268.p\n",
      "GFP_SimAnneal-ET_Global_Init_1-0008-02-20a61a1e.p GFP_SA_config-ET_Global_Init_1-0008-02-20a61a1e.p\n",
      "GFP_SimAnneal-ET_Global_Init_1-0008-03-f17f5c4.p GFP_SA_config-ET_Global_Init_1-0008-03-f17f5c4.p\n",
      "GFP_SimAnneal-ET_Global_Init_1-0008-04-3f6a6abd.p GFP_SA_config-ET_Global_Init_1-0008-04-3f6a6abd.p\n",
      "GFP_SimAnneal-ET_Global_Init_1-0008-05-3988ec51.p GFP_SA_config-ET_Global_Init_1-0008-05-3988ec51.p\n",
      "GFP_SimAnneal-ET_Global_Init_1-0008-06-3c728830.p GFP_SA_config-ET_Global_Init_1-0008-06-3c728830.p\n",
      "GFP_SimAnneal-ET_Global_Init_1-0008-07-30973b4b.p GFP_SA_config-ET_Global_Init_1-0008-07-30973b4b.p\n",
      "GFP_SimAnneal-ET_Global_Init_1-0008-08-1adfcc96.p GFP_SA_config-ET_Global_Init_1-0008-08-1adfcc96.p\n",
      "GFP_SimAnneal-ET_Global_Init_1-0008-09-c039746.p GFP_SA_config-ET_Global_Init_1-0008-09-c039746.p\n",
      "GFP_SimAnneal-ET_Global_Init_1-0024-00-3e721641.p GFP_SA_config-ET_Global_Init_1-0024-00-3e721641.p\n",
      "GFP_SimAnneal-ET_Global_Init_1-0024-01-3a0e3d4.p GFP_SA_config-ET_Global_Init_1-0024-01-3a0e3d4.p\n",
      "GFP_SimAnneal-ET_Global_Init_1-0024-02-31e54146.p GFP_SA_config-ET_Global_Init_1-0024-02-31e54146.p\n",
      "GFP_SimAnneal-ET_Global_Init_1-0024-03-3764e943.p GFP_SA_config-ET_Global_Init_1-0024-03-3764e943.p\n",
      "GFP_SimAnneal-ET_Global_Init_1-0024-04-4502d3.p GFP_SA_config-ET_Global_Init_1-0024-04-4502d3.p\n",
      "GFP_SimAnneal-ET_Global_Init_1-0024-05-39027296.p GFP_SA_config-ET_Global_Init_1-0024-05-39027296.p\n",
      "GFP_SimAnneal-ET_Global_Init_1-0024-06-22171ea1.p GFP_SA_config-ET_Global_Init_1-0024-06-22171ea1.p\n",
      "GFP_SimAnneal-ET_Global_Init_1-0024-07-1d481498.p GFP_SA_config-ET_Global_Init_1-0024-07-1d481498.p\n",
      "GFP_SimAnneal-ET_Global_Init_1-0024-08-d15c78f.p GFP_SA_config-ET_Global_Init_1-0024-08-d15c78f.p\n",
      "GFP_SimAnneal-ET_Global_Init_1-0024-09-28a188c9.p GFP_SA_config-ET_Global_Init_1-0024-09-28a188c9.p\n",
      "GFP_SimAnneal-ET_Global_Init_1-0096-00-3ea5f6e.p GFP_SA_config-ET_Global_Init_1-0096-00-3ea5f6e.p\n",
      "GFP_SimAnneal-ET_Global_Init_1-0096-01-2db7371.p GFP_SA_config-ET_Global_Init_1-0096-01-2db7371.p\n",
      "GFP_SimAnneal-ET_Global_Init_1-0096-02-341cf5c.p GFP_SA_config-ET_Global_Init_1-0096-02-341cf5c.p\n",
      "GFP_SimAnneal-ET_Global_Init_1-0096-03-12da09f.p GFP_SA_config-ET_Global_Init_1-0096-03-12da09f.p\n",
      "GFP_SimAnneal-ET_Global_Init_1-0096-04-30cb4ce7.p GFP_SA_config-ET_Global_Init_1-0096-04-30cb4ce7.p\n",
      "GFP_SimAnneal-ET_Global_Init_1-0096-05-1bb9876f.p GFP_SA_config-ET_Global_Init_1-0096-05-1bb9876f.p\n",
      "GFP_SimAnneal-ET_Global_Init_1-0096-06-3607ea7a.p GFP_SA_config-ET_Global_Init_1-0096-06-3607ea7a.p\n",
      "GFP_SimAnneal-ET_Global_Init_1-0096-07-3b79bc3.p GFP_SA_config-ET_Global_Init_1-0096-07-3b79bc3.p\n",
      "GFP_SimAnneal-ET_Global_Init_1-0096-08-1c60647e.p GFP_SA_config-ET_Global_Init_1-0096-08-1c60647e.p\n",
      "GFP_SimAnneal-ET_Global_Init_1-0096-09-380cb350.p GFP_SA_config-ET_Global_Init_1-0096-09-380cb350.p\n",
      "GFP_SimAnneal-ET_Global_Init_2-0008-00-3f76c68a.p GFP_SA_config-ET_Global_Init_2-0008-00-3f76c68a.p\n",
      "GFP_SimAnneal-ET_Global_Init_2-0008-01-1dd5b61c.p GFP_SA_config-ET_Global_Init_2-0008-01-1dd5b61c.p\n",
      "GFP_SimAnneal-ET_Global_Init_2-0008-02-2c3fe940.p GFP_SA_config-ET_Global_Init_2-0008-02-2c3fe940.p\n",
      "GFP_SimAnneal-ET_Global_Init_2-0008-03-1d8d08ef.p GFP_SA_config-ET_Global_Init_2-0008-03-1d8d08ef.p\n",
      "GFP_SimAnneal-ET_Global_Init_2-0008-04-1c010454.p GFP_SA_config-ET_Global_Init_2-0008-04-1c010454.p\n",
      "GFP_SimAnneal-ET_Global_Init_2-0008-05-3ad4494a.p GFP_SA_config-ET_Global_Init_2-0008-05-3ad4494a.p\n",
      "GFP_SimAnneal-ET_Global_Init_2-0008-06-25179055.p GFP_SA_config-ET_Global_Init_2-0008-06-25179055.p\n",
      "GFP_SimAnneal-ET_Global_Init_2-0008-07-2c02cba.p GFP_SA_config-ET_Global_Init_2-0008-07-2c02cba.p\n",
      "GFP_SimAnneal-ET_Global_Init_2-0008-08-3545625d.p GFP_SA_config-ET_Global_Init_2-0008-08-3545625d.p\n",
      "GFP_SimAnneal-ET_Global_Init_2-0008-09-ccccf1f.p GFP_SA_config-ET_Global_Init_2-0008-09-ccccf1f.p\n",
      "GFP_SimAnneal-ET_Global_Init_2-0024-00-17cbc6c3.p GFP_SA_config-ET_Global_Init_2-0024-00-17cbc6c3.p\n",
      "GFP_SimAnneal-ET_Global_Init_2-0024-01-25f01ed8.p GFP_SA_config-ET_Global_Init_2-0024-01-25f01ed8.p\n",
      "GFP_SimAnneal-ET_Global_Init_2-0024-02-f795278.p GFP_SA_config-ET_Global_Init_2-0024-02-f795278.p\n",
      "GFP_SimAnneal-ET_Global_Init_2-0024-03-2a95c17b.p GFP_SA_config-ET_Global_Init_2-0024-03-2a95c17b.p\n",
      "GFP_SimAnneal-ET_Global_Init_2-0024-04-36079a2c.p GFP_SA_config-ET_Global_Init_2-0024-04-36079a2c.p\n",
      "GFP_SimAnneal-ET_Global_Init_2-0024-05-184cfefa.p GFP_SA_config-ET_Global_Init_2-0024-05-184cfefa.p\n",
      "GFP_SimAnneal-ET_Global_Init_2-0024-06-26d4c78e.p GFP_SA_config-ET_Global_Init_2-0024-06-26d4c78e.p\n",
      "GFP_SimAnneal-ET_Global_Init_2-0024-07-245f5589.p GFP_SA_config-ET_Global_Init_2-0024-07-245f5589.p\n",
      "GFP_SimAnneal-ET_Global_Init_2-0024-08-3feb188b.p GFP_SA_config-ET_Global_Init_2-0024-08-3feb188b.p\n",
      "GFP_SimAnneal-ET_Global_Init_2-0024-09-3259695e.p GFP_SA_config-ET_Global_Init_2-0024-09-3259695e.p\n",
      "GFP_SimAnneal-ET_Global_Init_2-0096-00-46b57ab.p GFP_SA_config-ET_Global_Init_2-0096-00-46b57ab.p\n",
      "GFP_SimAnneal-ET_Global_Init_2-0096-01-3d7813de.p GFP_SA_config-ET_Global_Init_2-0096-01-3d7813de.p\n",
      "GFP_SimAnneal-ET_Global_Init_2-0096-02-1f121a71.p GFP_SA_config-ET_Global_Init_2-0096-02-1f121a71.p\n",
      "GFP_SimAnneal-ET_Global_Init_2-0096-03-33bfb65e.p GFP_SA_config-ET_Global_Init_2-0096-03-33bfb65e.p\n",
      "GFP_SimAnneal-ET_Global_Init_2-0096-04-35083dba.p GFP_SA_config-ET_Global_Init_2-0096-04-35083dba.p\n",
      "GFP_SimAnneal-ET_Global_Init_2-0096-05-16251b4c.p GFP_SA_config-ET_Global_Init_2-0096-05-16251b4c.p\n",
      "GFP_SimAnneal-ET_Global_Init_2-0096-06-2efde9e8.p GFP_SA_config-ET_Global_Init_2-0096-06-2efde9e8.p\n",
      "GFP_SimAnneal-ET_Global_Init_2-0096-07-2ff644c7.p GFP_SA_config-ET_Global_Init_2-0096-07-2ff644c7.p\n",
      "GFP_SimAnneal-ET_Global_Init_2-0096-08-b115ebc.p GFP_SA_config-ET_Global_Init_2-0096-08-b115ebc.p\n",
      "GFP_SimAnneal-ET_Global_Init_2-0096-09-382fe50b.p GFP_SA_config-ET_Global_Init_2-0096-09-382fe50b.p\n",
      "GFP_SimAnneal-ET_Random_Init_1-0008-00-dd0b10a.p GFP_SA_config-ET_Random_Init_1-0008-00-dd0b10a.p\n",
      "GFP_SimAnneal-ET_Random_Init_1-0008-01-14f410d2.p GFP_SA_config-ET_Random_Init_1-0008-01-14f410d2.p\n",
      "GFP_SimAnneal-ET_Random_Init_1-0008-02-32562edc.p GFP_SA_config-ET_Random_Init_1-0008-02-32562edc.p\n",
      "GFP_SimAnneal-ET_Random_Init_1-0008-03-2f6d496c.p GFP_SA_config-ET_Random_Init_1-0008-03-2f6d496c.p\n",
      "GFP_SimAnneal-ET_Random_Init_1-0008-04-3eae46fe.p GFP_SA_config-ET_Random_Init_1-0008-04-3eae46fe.p\n",
      "GFP_SimAnneal-ET_Random_Init_1-0008-05-3c91cc3.p GFP_SA_config-ET_Random_Init_1-0008-05-3c91cc3.p\n",
      "GFP_SimAnneal-ET_Random_Init_1-0008-06-3c12aeb4.p GFP_SA_config-ET_Random_Init_1-0008-06-3c12aeb4.p\n",
      "GFP_SimAnneal-ET_Random_Init_1-0008-07-590fdd6.p GFP_SA_config-ET_Random_Init_1-0008-07-590fdd6.p\n",
      "GFP_SimAnneal-ET_Random_Init_1-0008-08-277de46b.p GFP_SA_config-ET_Random_Init_1-0008-08-277de46b.p\n",
      "GFP_SimAnneal-ET_Random_Init_1-0008-09-32617971.p GFP_SA_config-ET_Random_Init_1-0008-09-32617971.p\n",
      "GFP_SimAnneal-ET_Random_Init_1-0024-00-15ce00a7.p GFP_SA_config-ET_Random_Init_1-0024-00-15ce00a7.p\n",
      "GFP_SimAnneal-ET_Random_Init_1-0024-01-15947f78.p GFP_SA_config-ET_Random_Init_1-0024-01-15947f78.p\n",
      "GFP_SimAnneal-ET_Random_Init_1-0024-02-1d0c4863.p GFP_SA_config-ET_Random_Init_1-0024-02-1d0c4863.p\n",
      "GFP_SimAnneal-ET_Random_Init_1-0024-03-1931926.p GFP_SA_config-ET_Random_Init_1-0024-03-1931926.p\n",
      "GFP_SimAnneal-ET_Random_Init_1-0024-04-1989c098.p GFP_SA_config-ET_Random_Init_1-0024-04-1989c098.p\n",
      "GFP_SimAnneal-ET_Random_Init_1-0024-05-1db7f283.p GFP_SA_config-ET_Random_Init_1-0024-05-1db7f283.p\n",
      "GFP_SimAnneal-ET_Random_Init_1-0024-06-33c52d51.p GFP_SA_config-ET_Random_Init_1-0024-06-33c52d51.p\n",
      "GFP_SimAnneal-ET_Random_Init_1-0024-07-2c027c91.p GFP_SA_config-ET_Random_Init_1-0024-07-2c027c91.p\n",
      "GFP_SimAnneal-ET_Random_Init_1-0024-08-2d38167d.p GFP_SA_config-ET_Random_Init_1-0024-08-2d38167d.p\n",
      "GFP_SimAnneal-ET_Random_Init_1-0024-09-3ac4d415.p GFP_SA_config-ET_Random_Init_1-0024-09-3ac4d415.p\n",
      "GFP_SimAnneal-ET_Random_Init_1-0096-00-2277bff5.p GFP_SA_config-ET_Random_Init_1-0096-00-2277bff5.p\n",
      "GFP_SimAnneal-ET_Random_Init_1-0096-01-bb13a0.p GFP_SA_config-ET_Random_Init_1-0096-01-bb13a0.p\n",
      "GFP_SimAnneal-ET_Random_Init_1-0096-02-311cbde3.p GFP_SA_config-ET_Random_Init_1-0096-02-311cbde3.p\n",
      "GFP_SimAnneal-ET_Random_Init_1-0096-03-108b3ec7.p GFP_SA_config-ET_Random_Init_1-0096-03-108b3ec7.p\n",
      "GFP_SimAnneal-ET_Random_Init_1-0096-04-1a4d5748.p GFP_SA_config-ET_Random_Init_1-0096-04-1a4d5748.p\n",
      "GFP_SimAnneal-ET_Random_Init_1-0096-05-368a23ad.p GFP_SA_config-ET_Random_Init_1-0096-05-368a23ad.p\n",
      "GFP_SimAnneal-ET_Random_Init_1-0096-06-72f0c5d.p GFP_SA_config-ET_Random_Init_1-0096-06-72f0c5d.p\n",
      "GFP_SimAnneal-ET_Random_Init_1-0096-07-3d94be85.p GFP_SA_config-ET_Random_Init_1-0096-07-3d94be85.p\n",
      "GFP_SimAnneal-ET_Random_Init_1-0096-08-2eafabb6.p GFP_SA_config-ET_Random_Init_1-0096-08-2eafabb6.p\n",
      "GFP_SimAnneal-ET_Random_Init_1-0096-09-19945684.p GFP_SA_config-ET_Random_Init_1-0096-09-19945684.p\n",
      "GFP_SimAnneal-OneHot-0008-00-34ea4aee.p GFP_SA_config-OneHot-0008-00-34ea4aee.p\n",
      "GFP_SimAnneal-OneHot-0008-01-3e1206a4.p GFP_SA_config-OneHot-0008-01-3e1206a4.p\n",
      "GFP_SimAnneal-OneHot-0008-02-2dab4b21.p GFP_SA_config-OneHot-0008-02-2dab4b21.p\n",
      "GFP_SimAnneal-OneHot-0008-03-350bdcd7.p GFP_SA_config-OneHot-0008-03-350bdcd7.p\n",
      "GFP_SimAnneal-OneHot-0008-04-2c4c4804.p GFP_SA_config-OneHot-0008-04-2c4c4804.p\n",
      "GFP_SimAnneal-OneHot-0008-05-33edd4.p GFP_SA_config-OneHot-0008-05-33edd4.p\n",
      "GFP_SimAnneal-OneHot-0008-06-2a62b64d.p GFP_SA_config-OneHot-0008-06-2a62b64d.p\n",
      "GFP_SimAnneal-OneHot-0008-07-3aa48de1.p GFP_SA_config-OneHot-0008-07-3aa48de1.p\n",
      "GFP_SimAnneal-OneHot-0008-08-394af21.p GFP_SA_config-OneHot-0008-08-394af21.p\n",
      "GFP_SimAnneal-OneHot-0008-09-1d63b296.p GFP_SA_config-OneHot-0008-09-1d63b296.p\n",
      "GFP_SimAnneal-OneHot-0024-00-16aedbcd.p GFP_SA_config-OneHot-0024-00-16aedbcd.p\n",
      "GFP_SimAnneal-OneHot-0024-01-1723ee07.p GFP_SA_config-OneHot-0024-01-1723ee07.p\n",
      "GFP_SimAnneal-OneHot-0024-02-bb99846.p GFP_SA_config-OneHot-0024-02-bb99846.p\n",
      "GFP_SimAnneal-OneHot-0024-03-20ad79a0.p GFP_SA_config-OneHot-0024-03-20ad79a0.p\n",
      "GFP_SimAnneal-OneHot-0024-04-4279eeb.p GFP_SA_config-OneHot-0024-04-4279eeb.p\n",
      "GFP_SimAnneal-OneHot-0024-05-9049e93.p GFP_SA_config-OneHot-0024-05-9049e93.p\n",
      "GFP_SimAnneal-OneHot-0024-06-aa76a89.p GFP_SA_config-OneHot-0024-06-aa76a89.p\n",
      "GFP_SimAnneal-OneHot-0024-07-222eb2b.p GFP_SA_config-OneHot-0024-07-222eb2b.p\n",
      "GFP_SimAnneal-OneHot-0024-08-39fbdd47.p GFP_SA_config-OneHot-0024-08-39fbdd47.p\n",
      "GFP_SimAnneal-OneHot-0024-09-1dd19ed.p GFP_SA_config-OneHot-0024-09-1dd19ed.p\n",
      "GFP_SimAnneal-OneHot-0096-00-23fe40b5.p GFP_SA_config-OneHot-0096-00-23fe40b5.p\n",
      "GFP_SimAnneal-OneHot-0096-01-1ff18e81.p GFP_SA_config-OneHot-0096-01-1ff18e81.p\n",
      "GFP_SimAnneal-OneHot-0096-02-2262da3b.p GFP_SA_config-OneHot-0096-02-2262da3b.p\n",
      "GFP_SimAnneal-OneHot-0096-03-e03b927.p GFP_SA_config-OneHot-0096-03-e03b927.p\n",
      "GFP_SimAnneal-OneHot-0096-04-17a14e72.p GFP_SA_config-OneHot-0096-04-17a14e72.p\n",
      "GFP_SimAnneal-OneHot-0096-05-2c160c64.p GFP_SA_config-OneHot-0096-05-2c160c64.p\n",
      "GFP_SimAnneal-OneHot-0096-06-2528096e.p GFP_SA_config-OneHot-0096-06-2528096e.p\n",
      "GFP_SimAnneal-OneHot-0096-07-8e5e144.p GFP_SA_config-OneHot-0096-07-8e5e144.p\n",
      "GFP_SimAnneal-OneHot-0096-08-156faacd.p GFP_SA_config-OneHot-0096-08-156faacd.p\n",
      "GFP_SimAnneal-OneHot-0096-09-146e9bf5.p GFP_SA_config-OneHot-0096-09-146e9bf5.p\n"
     ]
    }
   ],
   "source": [
    "np.random.seed(1)\n",
    "random.seed(1)\n",
    "\n",
    "output_dir = 'hyperborg'\n",
    "N_seq = 3500\n",
    "\n",
    "for m in models:\n",
    "    for n_train in n_train_seqs:\n",
    "        for seed in seeds:\n",
    "\n",
    "            output_file_base = '%s-%04d-%02d-%x.p' % (m, n_train, seed, random.randrange(2**30))\n",
    "            sa_results_file = 'GFP_SimAnneal-' + output_file_base\n",
    "            config_file = 'GFP_SA_config-' + output_file_base\n",
    "            \n",
    "            print(sa_results_file, config_file)\n",
    "            \n",
    "            \n",
    "            config = {\n",
    "                'seed': seed,\n",
    "                'n_train_seqs': n_train,\n",
    "                'model': m,\n",
    "                'n_chains': N_seq,\n",
    "                'T_max': np.ones(N_seq)*(10**(-2)),\n",
    "                'sa_n_iter': 3000, # debug\n",
    "                'temp_decay_rate': 1.0,\n",
    "                'min_mut_pos': A006_common.GFP_LIB_REGION[0],\n",
    "                'max_mut_pos': A006_common.GFP_LIB_REGION[1],\n",
    "                'nmut_threshold': 15,\n",
    "                'output_file': sa_results_file\n",
    "            }\n",
    "            \n",
    "            with open(os.path.join(output_dir, config_file), 'wb') as f:\n",
    "                pickle.dump(file=f, obj=config)"
   ]
  },
  {
   "cell_type": "markdown",
   "metadata": {},
   "source": [
    "Spot check"
   ]
  },
  {
   "cell_type": "code",
   "execution_count": 12,
   "metadata": {
    "scrolled": true
   },
   "outputs": [
    {
     "data": {
      "text/plain": [
       "{'T_max': array([0.01, 0.01, 0.01, ..., 0.01, 0.01, 0.01]),\n",
       " 'max_mut_pos': 110,\n",
       " 'min_mut_pos': 29,\n",
       " 'model': 'ET_Random_Init_1',\n",
       " 'n_chains': 3500,\n",
       " 'n_train_seqs': 96,\n",
       " 'nmut_threshold': 15,\n",
       " 'output_file': 'GFP_SimAnneal-ET_Random_Init_1-0096-00-2277bff5.p',\n",
       " 'sa_n_iter': 3000,\n",
       " 'seed': 0,\n",
       " 'temp_decay_rate': 1.0}"
      ]
     },
     "execution_count": 12,
     "metadata": {},
     "output_type": "execute_result"
    }
   ],
   "source": [
    "with open('hyperborg/GFP_SA_config-ET_Random_Init_1-0096-00-2277bff5.p', 'rb') as f:\n",
    "    c = pickle.load(f)\n",
    "    \n",
    "c"
   ]
  },
  {
   "cell_type": "markdown",
   "metadata": {},
   "source": [
    "## Special configs"
   ]
  },
  {
   "cell_type": "markdown",
   "metadata": {},
   "source": [
    "First let's generate a couple of configs that dont' use sparse refit. We'll do 3 replicates of training on 96 sequences with ET_Global_Init_1"
   ]
  },
  {
   "cell_type": "code",
   "execution_count": 13,
   "metadata": {},
   "outputs": [
    {
     "name": "stdout",
     "output_type": "stream",
     "text": [
      "GFP_SimAnneal-ET_Global_Init_1-0096-00-SparseRefit_False-24658718.p GFP_SA_config-ET_Global_Init_1-0096-00-SparseRefit_False-24658718.p\n",
      "GFP_SimAnneal-ET_Global_Init_1-0096-01-SparseRefit_False-12585ac9.p GFP_SA_config-ET_Global_Init_1-0096-01-SparseRefit_False-12585ac9.p\n",
      "GFP_SimAnneal-ET_Global_Init_1-0096-02-SparseRefit_False-81db765.p GFP_SA_config-ET_Global_Init_1-0096-02-SparseRefit_False-81db765.p\n",
      "GFP_SimAnneal-OneHot-0096-00-SparseRefit_False-22b53790.p GFP_SA_config-OneHot-0096-00-SparseRefit_False-22b53790.p\n",
      "GFP_SimAnneal-OneHot-0096-01-SparseRefit_False-11cb2259.p GFP_SA_config-OneHot-0096-01-SparseRefit_False-11cb2259.p\n",
      "GFP_SimAnneal-OneHot-0096-02-SparseRefit_False-19011e96.p GFP_SA_config-OneHot-0096-02-SparseRefit_False-19011e96.p\n"
     ]
    }
   ],
   "source": [
    "np.random.seed(352)\n",
    "random.seed(352)\n",
    "\n",
    "output_dir = 'hyperborg'\n",
    "N_seq = 3500\n",
    "\n",
    "for m in ['ET_Global_Init_1', 'OneHot']:\n",
    "    for n_train in [96]:\n",
    "        for seed in seeds[:3]:\n",
    "\n",
    "            output_file_base = '%s-%04d-%02d-SparseRefit_False-%x.p' % (m, n_train, seed, random.randrange(2**30))\n",
    "            sa_results_file = 'GFP_SimAnneal-' + output_file_base\n",
    "            config_file = 'GFP_SA_config-' + output_file_base\n",
    "            \n",
    "            print(sa_results_file, config_file)\n",
    "            \n",
    "            \n",
    "            config = {\n",
    "                'seed': seed,\n",
    "                'n_train_seqs': n_train,\n",
    "                'model': m,\n",
    "                'n_chains': N_seq,\n",
    "                'T_max': np.ones(N_seq)*(10**(-2)),\n",
    "                'sa_n_iter': 3000, # debug\n",
    "                'temp_decay_rate': 1.0,\n",
    "                'min_mut_pos': A006_common.GFP_LIB_REGION[0],\n",
    "                'max_mut_pos': A006_common.GFP_LIB_REGION[1],\n",
    "                'nmut_threshold': 15,\n",
    "                'output_file': sa_results_file,\n",
    "                'sparse_refit': False,\n",
    "            }\n",
    "            \n",
    "            with open(os.path.join(output_dir, config_file), 'wb') as f:\n",
    "                pickle.dump(file=f, obj=config)"
   ]
  },
  {
   "cell_type": "code",
   "execution_count": 14,
   "metadata": {},
   "outputs": [
    {
     "data": {
      "text/plain": [
       "{'T_max': array([0.01, 0.01, 0.01, ..., 0.01, 0.01, 0.01]),\n",
       " 'max_mut_pos': 110,\n",
       " 'min_mut_pos': 29,\n",
       " 'model': 'ET_Global_Init_1',\n",
       " 'n_chains': 3500,\n",
       " 'n_train_seqs': 96,\n",
       " 'nmut_threshold': 15,\n",
       " 'output_file': 'GFP_SimAnneal-ET_Global_Init_1-0096-01-SparseRefit_False-12585ac9.p',\n",
       " 'sa_n_iter': 3000,\n",
       " 'seed': 1,\n",
       " 'sparse_refit': False,\n",
       " 'temp_decay_rate': 1.0}"
      ]
     },
     "execution_count": 14,
     "metadata": {},
     "output_type": "execute_result"
    }
   ],
   "source": [
    "with open('hyperborg/GFP_SA_config-ET_Global_Init_1-0096-01-SparseRefit_False-12585ac9.p', 'rb') as f:\n",
    "    c = pickle.load(f)\n",
    "    \n",
    "c"
   ]
  },
  {
   "cell_type": "markdown",
   "metadata": {},
   "source": [
    "### Small trust radius configs"
   ]
  },
  {
   "cell_type": "markdown",
   "metadata": {},
   "source": [
    "Here we're generating run configs that use a small trust radius. i.e. instead of 15 mutations, we'll use 7. We'll compare 3 replicates of ET_Global_Init_1 to 3 replicates of OneHot all trained on 96 sequences. Instaed of doing 3K iterations we'll do 2K. "
   ]
  },
  {
   "cell_type": "code",
   "execution_count": 15,
   "metadata": {},
   "outputs": [
    {
     "name": "stdout",
     "output_type": "stream",
     "text": [
      "GFP_SimAnneal-ET_Global_Init_1-0096-00-SmallTrust-2e8818d2.p GFP_SA_config-ET_Global_Init_1-0096-00-SmallTrust-2e8818d2.p\n",
      "GFP_SimAnneal-ET_Global_Init_1-0096-01-SmallTrust-3f4221b8.p GFP_SA_config-ET_Global_Init_1-0096-01-SmallTrust-3f4221b8.p\n",
      "GFP_SimAnneal-ET_Global_Init_1-0096-02-SmallTrust-2b7857eb.p GFP_SA_config-ET_Global_Init_1-0096-02-SmallTrust-2b7857eb.p\n",
      "GFP_SimAnneal-OneHot-0096-00-SmallTrust-272dab56.p GFP_SA_config-OneHot-0096-00-SmallTrust-272dab56.p\n",
      "GFP_SimAnneal-OneHot-0096-01-SmallTrust-1bb5df52.p GFP_SA_config-OneHot-0096-01-SmallTrust-1bb5df52.p\n",
      "GFP_SimAnneal-OneHot-0096-02-SmallTrust-31616a94.p GFP_SA_config-OneHot-0096-02-SmallTrust-31616a94.p\n"
     ]
    }
   ],
   "source": [
    "np.random.seed(1984)\n",
    "random.seed(1984)\n",
    "\n",
    "output_dir = 'hyperborg'\n",
    "N_seq = 3500\n",
    "\n",
    "TRUST_RADIUS = 7\n",
    "\n",
    "for m in ['ET_Global_Init_1', 'OneHot']:\n",
    "    for n_train in [96]:\n",
    "        for seed in seeds[:3]:\n",
    "\n",
    "            output_file_base = '%s-%04d-%02d-SmallTrust-%x.p' % (m, n_train, seed, random.randrange(2**30))\n",
    "            sa_results_file = 'GFP_SimAnneal-' + output_file_base\n",
    "            config_file = 'GFP_SA_config-' + output_file_base\n",
    "            \n",
    "            print(sa_results_file, config_file)\n",
    "            \n",
    "            config = {\n",
    "                'seed': seed,\n",
    "                'n_train_seqs': n_train,\n",
    "                'model': m,\n",
    "                'n_chains': N_seq,\n",
    "                'T_max': np.ones(N_seq)*(10**(-2)),\n",
    "                'sa_n_iter': 2000, # debug\n",
    "                'temp_decay_rate': 1.0,\n",
    "                'min_mut_pos': A006_common.GFP_LIB_REGION[0],\n",
    "                'max_mut_pos': A006_common.GFP_LIB_REGION[1],\n",
    "                'nmut_threshold': TRUST_RADIUS, ## SMALL TRUST RADIUS\n",
    "                'output_file': sa_results_file,\n",
    "                'sparse_refit': True, \n",
    "            }\n",
    "            \n",
    "            with open(os.path.join(output_dir, config_file), 'wb') as f:\n",
    "                pickle.dump(file=f, obj=config)"
   ]
  },
  {
   "cell_type": "code",
   "execution_count": 16,
   "metadata": {},
   "outputs": [
    {
     "data": {
      "text/plain": [
       "{'T_max': array([0.01, 0.01, 0.01, ..., 0.01, 0.01, 0.01]),\n",
       " 'max_mut_pos': 110,\n",
       " 'min_mut_pos': 29,\n",
       " 'model': 'ET_Global_Init_1',\n",
       " 'n_chains': 3500,\n",
       " 'n_train_seqs': 96,\n",
       " 'nmut_threshold': 7,\n",
       " 'output_file': 'GFP_SimAnneal-ET_Global_Init_1-0096-01-SmallTrust-3f4221b8.p',\n",
       " 'sa_n_iter': 2000,\n",
       " 'seed': 1,\n",
       " 'sparse_refit': True,\n",
       " 'temp_decay_rate': 1.0}"
      ]
     },
     "execution_count": 16,
     "metadata": {},
     "output_type": "execute_result"
    }
   ],
   "source": [
    "with open('hyperborg/GFP_SA_config-ET_Global_Init_1-0096-01-SmallTrust-3f4221b8.p', 'rb') as f:\n",
    "    c = pickle.load(f)\n",
    "    \n",
    "c"
   ]
  },
  {
   "cell_type": "markdown",
   "metadata": {},
   "source": [
    "Now let's also do an \"upper bound run\", where we give linear regression and UniRep access to lots of training data. Sarkisyan Split 1 has >17K sequences, so let's use those. We'll do one replicate since we're using most of the training data."
   ]
  },
  {
   "cell_type": "code",
   "execution_count": 17,
   "metadata": {},
   "outputs": [
    {
     "name": "stdout",
     "output_type": "stream",
     "text": [
      "GFP_SimAnneal-ET_Global_Init_1-17000-00-SmallTrustLargeN-c9bd934.p GFP_SA_config-ET_Global_Init_1-17000-00-SmallTrustLargeN-c9bd934.p\n",
      "GFP_SimAnneal-OneHot-17000-00-SmallTrustLargeN-2f7b1159.p GFP_SA_config-OneHot-17000-00-SmallTrustLargeN-2f7b1159.p\n"
     ]
    }
   ],
   "source": [
    "np.random.seed(982)\n",
    "random.seed(982)\n",
    "\n",
    "output_dir = 'hyperborg'\n",
    "N_seq = 3500\n",
    "\n",
    "TRUST_RADIUS = 7\n",
    "\n",
    "for m in ['ET_Global_Init_1', 'OneHot']:\n",
    "    for n_train in [17000]:\n",
    "        for seed in seeds[:1]:\n",
    "\n",
    "            output_file_base = '%s-%04d-%02d-SmallTrustLargeN-%x.p' % (m, n_train, seed, random.randrange(2**30))\n",
    "            sa_results_file = 'GFP_SimAnneal-' + output_file_base\n",
    "            config_file = 'GFP_SA_config-' + output_file_base\n",
    "            \n",
    "            print(sa_results_file, config_file)\n",
    "            \n",
    "            config = {\n",
    "                'seed': seed,\n",
    "                'n_train_seqs': n_train,\n",
    "                'model': m,\n",
    "                'n_chains': N_seq,\n",
    "                'T_max': np.ones(N_seq)*(10**(-2)),\n",
    "                'sa_n_iter': 2000, # debug\n",
    "                'temp_decay_rate': 1.0,\n",
    "                'min_mut_pos': A006_common.GFP_LIB_REGION[0],\n",
    "                'max_mut_pos': A006_common.GFP_LIB_REGION[1],\n",
    "                'nmut_threshold': TRUST_RADIUS, ## SMALL TRUST RADIUS\n",
    "                'output_file': sa_results_file,\n",
    "                'sparse_refit': True, \n",
    "            }\n",
    "            \n",
    "            with open(os.path.join(output_dir, config_file), 'wb') as f:\n",
    "                pickle.dump(file=f, obj=config)"
   ]
  },
  {
   "cell_type": "code",
   "execution_count": 18,
   "metadata": {},
   "outputs": [
    {
     "data": {
      "text/plain": [
       "{'T_max': array([0.01, 0.01, 0.01, ..., 0.01, 0.01, 0.01]),\n",
       " 'max_mut_pos': 110,\n",
       " 'min_mut_pos': 29,\n",
       " 'model': 'OneHot',\n",
       " 'n_chains': 3500,\n",
       " 'n_train_seqs': 17000,\n",
       " 'nmut_threshold': 7,\n",
       " 'output_file': 'GFP_SimAnneal-OneHot-17000-00-SmallTrustLargeN-2f7b1159.p',\n",
       " 'sa_n_iter': 2000,\n",
       " 'seed': 0,\n",
       " 'sparse_refit': True,\n",
       " 'temp_decay_rate': 1.0}"
      ]
     },
     "execution_count": 18,
     "metadata": {},
     "output_type": "execute_result"
    }
   ],
   "source": [
    "with open('hyperborg/GFP_SA_config-OneHot-17000-00-SmallTrustLargeN-2f7b1159.p', 'rb') as f:\n",
    "    c = pickle.load(f)\n",
    "    \n",
    "c"
   ]
  }
 ],
 "metadata": {
  "kernelspec": {
   "display_name": "Python 3",
   "language": "python",
   "name": "python3"
  },
  "language_info": {
   "codemirror_mode": {
    "name": "ipython",
    "version": 3
   },
   "file_extension": ".py",
   "mimetype": "text/x-python",
   "name": "python",
   "nbconvert_exporter": "python",
   "pygments_lexer": "ipython3",
   "version": "3.5.2"
  }
 },
 "nbformat": 4,
 "nbformat_minor": 2
}
